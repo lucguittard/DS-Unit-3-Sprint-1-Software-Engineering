{
  "nbformat": 4,
  "nbformat_minor": 0,
  "metadata": {
    "colab": {
      "name": "Luc Guittard - Copy of oop_examples.ipynb",
      "provenance": [],
      "collapsed_sections": [],
      "include_colab_link": true
    },
    "kernelspec": {
      "name": "python3",
      "display_name": "Python 3"
    }
  },
  "cells": [
    {
      "cell_type": "markdown",
      "metadata": {
        "id": "view-in-github",
        "colab_type": "text"
      },
      "source": [
        "<a href=\"https://colab.research.google.com/github/lucguittard/DS-Unit-3-Sprint-1-Software-Engineering/blob/master/Luc_Guittard_Copy_of_oop_examples.ipynb\" target=\"_parent\"><img src=\"https://colab.research.google.com/assets/colab-badge.svg\" alt=\"Open In Colab\"/></a>"
      ]
    },
    {
      "cell_type": "code",
      "metadata": {
        "id": "1vfmMhqRcsTO",
        "colab_type": "code",
        "outputId": "508fad68-35e9-4ac6-fff2-8867b2a7797c",
        "colab": {
          "base_uri": "https://localhost:8080/",
          "height": 263
        }
      },
      "source": [
        "pip install autopep8"
      ],
      "execution_count": 0,
      "outputs": [
        {
          "output_type": "stream",
          "text": [
            "Collecting autopep8\n",
            "\u001b[?25l  Downloading https://files.pythonhosted.org/packages/45/f3/24b437da561b6af4840c871fbbda32889ca304fc1f7b6cc3ada8b09f394a/autopep8-1.4.4.tar.gz (114kB)\n",
            "\u001b[K     |████████████████████████████████| 122kB 2.8MB/s \n",
            "\u001b[?25hCollecting pycodestyle>=2.4.0 (from autopep8)\n",
            "\u001b[?25l  Downloading https://files.pythonhosted.org/packages/0e/0c/04a353e104d2f324f8ee5f4b32012618c1c86dd79e52a433b64fceed511b/pycodestyle-2.5.0-py2.py3-none-any.whl (51kB)\n",
            "\u001b[K     |████████████████████████████████| 51kB 18.8MB/s \n",
            "\u001b[?25hBuilding wheels for collected packages: autopep8\n",
            "  Building wheel for autopep8 (setup.py) ... \u001b[?25l\u001b[?25hdone\n",
            "  Created wheel for autopep8: filename=autopep8-1.4.4-py2.py3-none-any.whl size=42631 sha256=9bf240d22e01c980d28c7ec03b3c47b68165fec318f70ac87db55b7a4fc6adf7\n",
            "  Stored in directory: /root/.cache/pip/wheels/7e/f5/4b/c19e6276126325eb8071b273347c05a830c37a82b9b3b81510\n",
            "Successfully built autopep8\n",
            "Installing collected packages: pycodestyle, autopep8\n",
            "Successfully installed autopep8-1.4.4 pycodestyle-2.5.0\n"
          ],
          "name": "stdout"
        }
      ]
    },
    {
      "cell_type": "code",
      "metadata": {
        "id": "qG2NFIGRqxjD",
        "colab_type": "code",
        "colab": {}
      },
      "source": [
        "\"\"\"\n",
        "Classes to represent games\n",
        "\"\"\"\n",
        "#import random to get pseudorandom number between 0 and 1\n",
        "from random import random\n",
        "\n",
        "class Game:\n",
        "    \"\"\" General representation of an abstract game\"\"\"\n",
        "\n",
        "    fun_level = 5\n",
        "\n",
        "    def __init__(self, rounds = 2, player1=\"Boss\", player2=\"Ardy\"):\n",
        "        self.rounds = 2\n",
        "        self.current_round = 0\n",
        "        self.player1 = player1\n",
        "        self.player2 = player2\n",
        "\n",
        "    def print_players(self):\n",
        "        \"\"\" Print game players\"\"\"\n",
        "        print('{} is playing {}'.format(self.player1, self.player2))\n",
        "\n",
        "    def add_round(self):\n",
        "        \"\"\"Increment rounds by 1\"\"\"\n",
        "        self.rounds += 1\n",
        "\n",
        "    def winner(self):\n",
        "        \"\"\"pseudorandomly pick and return winner\"\"\"\n",
        "        return self.player1 if random() > 0.5 else self.player2\n",
        "\n",
        "class Tic(Game):\n",
        "    \"\"\"\n",
        "    Tictactoe subclass of game\n",
        "    \"\"\"\n",
        "\n",
        "    def __init__(self, rounds = 3, player1='Anika', player2='Hira'):\n",
        "        super().__init__(rounds, player1, player2)\n",
        "\n",
        "    def print_players(self):\n",
        "        print('{} is playing TIC TAC TOE with {}'.format(self.player1, self.player2))\n"
      ],
      "execution_count": 0,
      "outputs": []
    },
    {
      "cell_type": "code",
      "metadata": {
        "id": "I7eALkilTZ1g",
        "colab_type": "code",
        "colab": {}
      },
      "source": [
        "game1 = Game()\n",
        "game2 = Game()"
      ],
      "execution_count": 0,
      "outputs": []
    },
    {
      "cell_type": "code",
      "metadata": {
        "id": "X_2YVs8ZTi5k",
        "colab_type": "code",
        "colab": {}
      },
      "source": [
        "ttt = Tic()"
      ],
      "execution_count": 0,
      "outputs": []
    },
    {
      "cell_type": "code",
      "metadata": {
        "id": "PdyzaMduTk7f",
        "colab_type": "code",
        "outputId": "d1f1f723-54fe-4cbc-f372-a8e9bc253399",
        "colab": {
          "base_uri": "https://localhost:8080/",
          "height": 35
        }
      },
      "source": [
        "game.player1"
      ],
      "execution_count": 0,
      "outputs": [
        {
          "output_type": "execute_result",
          "data": {
            "text/plain": [
              "'Stefano'"
            ]
          },
          "metadata": {
            "tags": []
          },
          "execution_count": 76
        }
      ]
    },
    {
      "cell_type": "code",
      "metadata": {
        "id": "SIOTppkBToOP",
        "colab_type": "code",
        "outputId": "b88522eb-085b-44bc-e5cd-2a2e77dcb2d5",
        "colab": {
          "base_uri": "https://localhost:8080/",
          "height": 35
        }
      },
      "source": [
        "ttt.player1"
      ],
      "execution_count": 0,
      "outputs": [
        {
          "output_type": "execute_result",
          "data": {
            "text/plain": [
              "'Anika'"
            ]
          },
          "metadata": {
            "tags": []
          },
          "execution_count": 77
        }
      ]
    },
    {
      "cell_type": "code",
      "metadata": {
        "id": "kOE7ARQcVsMD",
        "colab_type": "code",
        "outputId": "30f8ae98-e4f2-45dd-e72e-deb0eca8b736",
        "colab": {
          "base_uri": "https://localhost:8080/",
          "height": 35
        }
      },
      "source": [
        "game1.winner()"
      ],
      "execution_count": 0,
      "outputs": [
        {
          "output_type": "execute_result",
          "data": {
            "text/plain": [
              "'Rudy'"
            ]
          },
          "metadata": {
            "tags": []
          },
          "execution_count": 82
        }
      ]
    },
    {
      "cell_type": "code",
      "metadata": {
        "id": "1JVF1ttaWMFs",
        "colab_type": "code",
        "outputId": "c083ce60-bfee-4c24-f43a-73035cf9f2f3",
        "colab": {
          "base_uri": "https://localhost:8080/",
          "height": 35
        }
      },
      "source": [
        "ttt.winner()"
      ],
      "execution_count": 0,
      "outputs": [
        {
          "output_type": "execute_result",
          "data": {
            "text/plain": [
              "'Hira'"
            ]
          },
          "metadata": {
            "tags": []
          },
          "execution_count": 91
        }
      ]
    }
  ]
}